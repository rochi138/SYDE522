{
 "cells": [
  {
   "cell_type": "code",
   "execution_count": 8,
   "metadata": {
    "_cell_guid": "b1076dfc-b9ad-4769-8c92-a6c4dae69d19",
    "_uuid": "8f2839f25d086af736a60e9eeb907d3b93b6e0e5",
    "execution": {
     "iopub.execute_input": "2022-04-08T15:47:04.601723Z",
     "iopub.status.busy": "2022-04-08T15:47:04.601343Z",
     "iopub.status.idle": "2022-04-08T15:47:05.641687Z",
     "shell.execute_reply": "2022-04-08T15:47:05.640982Z",
     "shell.execute_reply.started": "2022-04-08T15:47:04.60165Z"
    },
    "scrolled": true
   },
   "outputs": [],
   "source": [
    "from __future__ import print_function, division\n",
    "\n",
    "import time\n",
    "import os\n",
    "import copy\n",
    "\n",
    "import numpy as np\n",
    "import matplotlib.pyplot as plt\n",
    "import pandas as pd # data processing, CSV file I/O (e.g. pd.read_csv)\n",
    "from tqdm import tqdm\n",
    "from skimage import io, transform\n",
    "\n",
    "import torch\n",
    "import torch.nn as nn\n",
    "import torch.optim as optim\n",
    "from torch.optim import lr_scheduler\n",
    "import torch.backends.cudnn as cudnn\n",
    "from torch.utils.data import DataLoader, Dataset\n",
    "\n",
    "import torchvision\n",
    "from torchvision import datasets, models, transforms, utils\n",
    "\n",
    "cudnn.benchmark = True\n",
    "plt.ion()   # interactive mode\n",
    "\n",
    "import ssl\n",
    "ssl._create_default_https_context = ssl._create_unverified_context"
   ]
  },
  {
   "cell_type": "code",
   "execution_count": 23,
   "metadata": {},
   "outputs": [],
   "source": [
    "# path constants\n",
    "path_to_folder = 'Assignment3_Massaged_Data'\n",
    "train_images_folder = 'train_set_edges'\n",
    "test_images_folder = 'test_set_luma'\n",
    "path_to_train_images= path_to_folder + '/' + train_images_folder\n",
    "path_to_test_images = path_to_folder + '/' + test_images_folder\n",
    "\n",
    "path_to_train_labels= path_to_folder + '/' + 'train_labels.csv'"
   ]
  },
  {
   "cell_type": "code",
   "execution_count": 24,
   "metadata": {
    "execution": {
     "iopub.execute_input": "2022-04-08T15:47:05.653684Z",
     "iopub.status.busy": "2022-04-08T15:47:05.653331Z",
     "iopub.status.idle": "2022-04-08T15:47:05.662768Z",
     "shell.execute_reply": "2022-04-08T15:47:05.66201Z",
     "shell.execute_reply.started": "2022-04-08T15:47:05.653648Z"
    }
   },
   "outputs": [],
   "source": [
    "data_transforms = {\n",
    "    'train': transforms.Compose([\n",
    "        transforms.ToTensor()\n",
    "    ]),\n",
    "    'test': transforms.Compose([\n",
    "        transforms.ToTensor()\n",
    "    ]),\n",
    "}"
   ]
  },
  {
   "cell_type": "code",
   "execution_count": 123,
   "metadata": {
    "execution": {
     "iopub.execute_input": "2022-04-08T15:47:05.666785Z",
     "iopub.status.busy": "2022-04-08T15:47:05.666166Z",
     "iopub.status.idle": "2022-04-08T15:47:05.67766Z",
     "shell.execute_reply": "2022-04-08T15:47:05.676781Z",
     "shell.execute_reply.started": "2022-04-08T15:47:05.66672Z"
    }
   },
   "outputs": [],
   "source": [
    "class DatasetCustom(Dataset):\n",
    "    \n",
    "    def __init__(self, root_dir, csv_path, transform=None):\n",
    "        self.root = root_dir\n",
    "        self.dataframe = pd.read_csv(csv_path)\n",
    "        self.transform = transform\n",
    "        \n",
    "    def __len__(self):\n",
    "        return self.dataframe.shape[0]-1\n",
    "    \n",
    "    def __getitem__(self, index):\n",
    "        if torch.is_tensor(index):\n",
    "            index = index.tolist()\n",
    "        img_name = os.path.join(self.root,\n",
    "                                self.dataframe.iloc[index, 0])\n",
    "        \n",
    "        edges_mask = io.imread(img_name)\n",
    "        \n",
    "        # Added, since my images are in black and white (luma edges)\n",
    "        image = np.zeros((edges_mask.shape[0], edges_mask.shape[1], 3))\n",
    "        image[:,:,0] = edges_mask\n",
    "        image[:,:,1] = edges_mask\n",
    "        image[:,:,2] = edges_mask\n",
    "        image = image.astype(np.uint8)\n",
    "        \n",
    "        \n",
    "        label = (self.dataframe.iloc[index, 2])\n",
    "        \n",
    "        if self.transform is not None:\n",
    "            image = self.transform(image)\n",
    "            \n",
    "        return image, label"
   ]
  },
  {
   "cell_type": "code",
   "execution_count": 124,
   "metadata": {
    "execution": {
     "iopub.execute_input": "2022-04-08T15:47:05.679793Z",
     "iopub.status.busy": "2022-04-08T15:47:05.67904Z",
     "iopub.status.idle": "2022-04-08T15:47:05.693781Z",
     "shell.execute_reply": "2022-04-08T15:47:05.693153Z",
     "shell.execute_reply.started": "2022-04-08T15:47:05.679757Z"
    }
   },
   "outputs": [],
   "source": [
    "train_dataset = DatasetCustom(path_to_train_images, path_to_train_labels, transform=data_transforms['train'])"
   ]
  },
  {
   "cell_type": "code",
   "execution_count": 125,
   "metadata": {
    "execution": {
     "iopub.execute_input": "2022-04-08T15:47:05.695307Z",
     "iopub.status.busy": "2022-04-08T15:47:05.695051Z",
     "iopub.status.idle": "2022-04-08T15:47:05.699895Z",
     "shell.execute_reply": "2022-04-08T15:47:05.698772Z",
     "shell.execute_reply.started": "2022-04-08T15:47:05.695275Z"
    }
   },
   "outputs": [],
   "source": [
    "dataloader = DataLoader(train_dataset, batch_size=64,\n",
    "                        shuffle=True, num_workers=0)"
   ]
  },
  {
   "cell_type": "markdown",
   "metadata": {},
   "source": [
    "# Show some training images"
   ]
  },
  {
   "cell_type": "code",
   "execution_count": 126,
   "metadata": {
    "execution": {
     "iopub.execute_input": "2022-04-08T15:47:05.702001Z",
     "iopub.status.busy": "2022-04-08T15:47:05.701434Z",
     "iopub.status.idle": "2022-04-08T15:47:06.291819Z",
     "shell.execute_reply": "2022-04-08T15:47:06.291175Z",
     "shell.execute_reply.started": "2022-04-08T15:47:05.701966Z"
    }
   },
   "outputs": [
    {
     "data": {
      "image/png": "[encoded data removed]",
      "text/plain": [
       "<Figure size 432x288 with 1 Axes>"
      ]
     },
     "metadata": {
      "needs_background": "light"
     },
     "output_type": "display_data"
    }
   ],
   "source": [
    "def imshow(inp, title=None):\n",
    "    inp = inp.numpy().transpose((1, 2, 0))\n",
    "    plt.imshow(inp)\n",
    "    if title is not None:\n",
    "        plt.title(title)\n",
    "    plt.pause(0.001)  # pause a bit so that plots are updated\n",
    "    \n",
    "inputs, labels = next(iter(dataloader))\n",
    "out = utils.make_grid(inputs[0:8])\n",
    "imshow(out, title=[x for x in labels[0:8]])\n"
   ]
  },
  {
   "cell_type": "markdown",
   "metadata": {},
   "source": [
    "# GPU availability"
   ]
  },
  {
   "cell_type": "code",
   "execution_count": 16,
   "metadata": {
    "execution": {
     "iopub.execute_input": "2022-04-08T15:47:06.293477Z",
     "iopub.status.busy": "2022-04-08T15:47:06.293223Z",
     "iopub.status.idle": "2022-04-08T15:47:06.3178Z",
     "shell.execute_reply": "2022-04-08T15:47:06.316699Z",
     "shell.execute_reply.started": "2022-04-08T15:47:06.293442Z"
    }
   },
   "outputs": [],
   "source": [
    "cuda_available = torch.cuda.is_available()\n",
    "device = torch.device(\"cuda:0\" if cuda_available else \"cpu\")"
   ]
  },
  {
   "cell_type": "markdown",
   "metadata": {},
   "source": [
    "# Training loop function"
   ]
  },
  {
   "cell_type": "code",
   "execution_count": 127,
   "metadata": {
    "execution": {
     "iopub.execute_input": "2022-04-08T15:47:06.320384Z",
     "iopub.status.busy": "2022-04-08T15:47:06.319838Z",
     "iopub.status.idle": "2022-04-08T15:47:06.336472Z",
     "shell.execute_reply": "2022-04-08T15:47:06.335607Z",
     "shell.execute_reply.started": "2022-04-08T15:47:06.320348Z"
    }
   },
   "outputs": [],
   "source": [
    "def train_model(model, criterion, optimizer, scheduler, num_epochs=25):\n",
    "    since = time.time()\n",
    "\n",
    "    best_model_wts = copy.deepcopy(model.state_dict())\n",
    "    best_acc = 0.0\n",
    "\n",
    "    for epoch in range(num_epochs):\n",
    "        print(f'Epoch {epoch}/{num_epochs - 1}')\n",
    "        print('-' * 10)\n",
    "\n",
    "        # Each epoch has a training and validation phase\n",
    "        for phase in ['train', 'val']:\n",
    "            if phase == 'train':\n",
    "                model.train()  # Set model to training mode\n",
    "            else:\n",
    "                model.eval()   # Set model to evaluate mode\n",
    "\n",
    "            running_loss = 0.0\n",
    "            running_corrects = 0\n",
    "\n",
    "            # Iterate over data.\n",
    "            for inputs, labels in tqdm(dataloader):\n",
    "                inputs = inputs.to(device)\n",
    "                labels = labels.to(device)\n",
    "\n",
    "                # zero the parameter gradients\n",
    "                optimizer.zero_grad()\n",
    "\n",
    "                # forward\n",
    "                # track history if only in train\n",
    "                with torch.set_grad_enabled(phase == 'train'):\n",
    "                    outputs = model(inputs)\n",
    "                    _, preds = torch.max(outputs, 1)\n",
    "                    loss = criterion(outputs, labels)\n",
    "\n",
    "                    # backward + optimize only if in training phase\n",
    "                    if phase == 'train':\n",
    "                        loss.backward()\n",
    "                        optimizer.step()\n",
    "\n",
    "                # statistics\n",
    "                running_loss += loss.item() * inputs.size(0)\n",
    "                running_corrects += torch.sum(preds == labels.data)\n",
    "            if phase == 'train':\n",
    "                scheduler.step()\n",
    "\n",
    "            epoch_loss = running_loss / len(dataloader.dataset)\n",
    "            epoch_acc = running_corrects.double() / len(dataloader.dataset)\n",
    "\n",
    "            print(f'{phase} Loss: {epoch_loss:.4f} Acc: {epoch_acc:.4f}')\n",
    "\n",
    "            # deep copy the model\n",
    "            if phase == 'val' and epoch_acc > best_acc:\n",
    "                best_acc = epoch_acc\n",
    "                best_model_wts = copy.deepcopy(model.state_dict())\n",
    "\n",
    "\n",
    "    time_elapsed = time.time() - since\n",
    "    print(f'Training complete in {time_elapsed // 60:.0f}m {time_elapsed % 60:.0f}s')\n",
    "    print(f'Best val Acc: {best_acc:4f}')\n",
    "\n",
    "    # load best model weights\n",
    "    model.load_state_dict(best_model_wts)\n",
    "    return model"
   ]
  },
  {
   "cell_type": "markdown",
   "metadata": {},
   "source": [
    "# Model selection"
   ]
  },
  {
   "cell_type": "code",
   "execution_count": 136,
   "metadata": {
    "execution": {
     "iopub.execute_input": "2022-04-08T15:47:06.33814Z",
     "iopub.status.busy": "2022-04-08T15:47:06.337877Z",
     "iopub.status.idle": "2022-04-08T15:47:08.643971Z",
     "shell.execute_reply": "2022-04-08T15:47:08.643211Z",
     "shell.execute_reply.started": "2022-04-08T15:47:06.338106Z"
    },
    "scrolled": true
   },
   "outputs": [],
   "source": [
    "model = models.resnet18(pretrained=False)\n",
    "num_ftrs = model.fc.in_features\n",
    "fully_connected  = nn.Sequential(nn.Linear(num_ftrs, 7),\n",
    "                                nn.Softmax(dim=1))\n",
    "model.fc = fully_connected\n",
    "model = model.to(device)"
   ]
  },
  {
   "cell_type": "markdown",
   "metadata": {},
   "source": [
    "# Loss function"
   ]
  },
  {
   "cell_type": "code",
   "execution_count": 129,
   "metadata": {
    "execution": {
     "iopub.execute_input": "2022-04-08T15:47:08.64621Z",
     "iopub.status.busy": "2022-04-08T15:47:08.645632Z",
     "iopub.status.idle": "2022-04-08T15:47:08.651561Z",
     "shell.execute_reply": "2022-04-08T15:47:08.650878Z",
     "shell.execute_reply.started": "2022-04-08T15:47:08.646172Z"
    }
   },
   "outputs": [],
   "source": [
    "criterion = nn.CrossEntropyLoss()"
   ]
  },
  {
   "cell_type": "markdown",
   "metadata": {},
   "source": [
    "# Optimizer and Scheduler"
   ]
  },
  {
   "cell_type": "code",
   "execution_count": 137,
   "metadata": {
    "execution": {
     "iopub.execute_input": "2022-04-08T15:47:08.654652Z",
     "iopub.status.busy": "2022-04-08T15:47:08.654151Z",
     "iopub.status.idle": "2022-04-08T15:47:08.662302Z",
     "shell.execute_reply": "2022-04-08T15:47:08.661655Z",
     "shell.execute_reply.started": "2022-04-08T15:47:08.654613Z"
    }
   },
   "outputs": [],
   "source": [
    "# Observe that all parameters are being optimized\n",
    "optimizer_ft = optim.SGD(model.parameters(), lr=0.001, momentum=0.9)\n",
    "\n",
    "# Decay LR by a factor of 0.1 every 7 epochs\n",
    "exp_lr_scheduler = lr_scheduler.StepLR(optimizer_ft, step_size=7, gamma=0.1)"
   ]
  },
  {
   "cell_type": "markdown",
   "metadata": {},
   "source": [
    "# Training"
   ]
  },
  {
   "cell_type": "code",
   "execution_count": 131,
   "metadata": {
    "execution": {
     "iopub.execute_input": "2022-04-08T15:47:08.663853Z",
     "iopub.status.busy": "2022-04-08T15:47:08.663579Z",
     "iopub.status.idle": "2022-04-08T16:14:02.436055Z",
     "shell.execute_reply": "2022-04-08T16:14:02.435208Z",
     "shell.execute_reply.started": "2022-04-08T15:47:08.663819Z"
    },
    "scrolled": true
   },
   "outputs": [
    {
     "name": "stdout",
     "output_type": "stream",
     "text": [
      "Epoch 0/19\n",
      "----------\n"
     ]
    },
    {
     "name": "stderr",
     "output_type": "stream",
     "text": [
      "  1%|          | 1/95 [00:12<19:40, 12.55s/it]\n"
     ]
    },
    {
     "ename": "KeyboardInterrupt",
     "evalue": "",
     "output_type": "error",
     "traceback": [
      "\u001b[1;31m---------------------------------------------------------------------------\u001b[0m",
      "\u001b[1;31mKeyboardInterrupt\u001b[0m                         Traceback (most recent call last)",
      "\u001b[1;32m~\\AppData\\Local\\Temp/ipykernel_11260/1740984214.py\u001b[0m in \u001b[0;36m<module>\u001b[1;34m\u001b[0m\n\u001b[1;32m----> 1\u001b[1;33m model_ft = train_model(model, criterion, optimizer_ft, exp_lr_scheduler,\n\u001b[0m\u001b[0;32m      2\u001b[0m                        num_epochs=20)\n",
      "\u001b[1;32m~\\AppData\\Local\\Temp/ipykernel_11260/1426234570.py\u001b[0m in \u001b[0;36mtrain_model\u001b[1;34m(model, criterion, optimizer, scheduler, num_epochs)\u001b[0m\n\u001b[0;32m     36\u001b[0m                     \u001b[1;31m# backward + optimize only if in training phase\u001b[0m\u001b[1;33m\u001b[0m\u001b[1;33m\u001b[0m\u001b[0m\n\u001b[0;32m     37\u001b[0m                     \u001b[1;32mif\u001b[0m \u001b[0mphase\u001b[0m \u001b[1;33m==\u001b[0m \u001b[1;34m'train'\u001b[0m\u001b[1;33m:\u001b[0m\u001b[1;33m\u001b[0m\u001b[1;33m\u001b[0m\u001b[0m\n\u001b[1;32m---> 38\u001b[1;33m                         \u001b[0mloss\u001b[0m\u001b[1;33m.\u001b[0m\u001b[0mbackward\u001b[0m\u001b[1;33m(\u001b[0m\u001b[1;33m)\u001b[0m\u001b[1;33m\u001b[0m\u001b[1;33m\u001b[0m\u001b[0m\n\u001b[0m\u001b[0;32m     39\u001b[0m                         \u001b[0moptimizer\u001b[0m\u001b[1;33m.\u001b[0m\u001b[0mstep\u001b[0m\u001b[1;33m(\u001b[0m\u001b[1;33m)\u001b[0m\u001b[1;33m\u001b[0m\u001b[1;33m\u001b[0m\u001b[0m\n\u001b[0;32m     40\u001b[0m \u001b[1;33m\u001b[0m\u001b[0m\n",
      "\u001b[1;32m~\\anaconda3\\lib\\site-packages\\torch\\_tensor.py\u001b[0m in \u001b[0;36mbackward\u001b[1;34m(self, gradient, retain_graph, create_graph, inputs)\u001b[0m\n\u001b[0;32m    361\u001b[0m                 \u001b[0mcreate_graph\u001b[0m\u001b[1;33m=\u001b[0m\u001b[0mcreate_graph\u001b[0m\u001b[1;33m,\u001b[0m\u001b[1;33m\u001b[0m\u001b[1;33m\u001b[0m\u001b[0m\n\u001b[0;32m    362\u001b[0m                 inputs=inputs)\n\u001b[1;32m--> 363\u001b[1;33m         \u001b[0mtorch\u001b[0m\u001b[1;33m.\u001b[0m\u001b[0mautograd\u001b[0m\u001b[1;33m.\u001b[0m\u001b[0mbackward\u001b[0m\u001b[1;33m(\u001b[0m\u001b[0mself\u001b[0m\u001b[1;33m,\u001b[0m \u001b[0mgradient\u001b[0m\u001b[1;33m,\u001b[0m \u001b[0mretain_graph\u001b[0m\u001b[1;33m,\u001b[0m \u001b[0mcreate_graph\u001b[0m\u001b[1;33m,\u001b[0m \u001b[0minputs\u001b[0m\u001b[1;33m=\u001b[0m\u001b[0minputs\u001b[0m\u001b[1;33m)\u001b[0m\u001b[1;33m\u001b[0m\u001b[1;33m\u001b[0m\u001b[0m\n\u001b[0m\u001b[0;32m    364\u001b[0m \u001b[1;33m\u001b[0m\u001b[0m\n\u001b[0;32m    365\u001b[0m     \u001b[1;32mdef\u001b[0m \u001b[0mregister_hook\u001b[0m\u001b[1;33m(\u001b[0m\u001b[0mself\u001b[0m\u001b[1;33m,\u001b[0m \u001b[0mhook\u001b[0m\u001b[1;33m)\u001b[0m\u001b[1;33m:\u001b[0m\u001b[1;33m\u001b[0m\u001b[1;33m\u001b[0m\u001b[0m\n",
      "\u001b[1;32m~\\anaconda3\\lib\\site-packages\\torch\\autograd\\__init__.py\u001b[0m in \u001b[0;36mbackward\u001b[1;34m(tensors, grad_tensors, retain_graph, create_graph, grad_variables, inputs)\u001b[0m\n\u001b[0;32m    171\u001b[0m     \u001b[1;31m# some Python versions print out the first line of a multi-line function\u001b[0m\u001b[1;33m\u001b[0m\u001b[1;33m\u001b[0m\u001b[0m\n\u001b[0;32m    172\u001b[0m     \u001b[1;31m# calls in the traceback and some print out the last line\u001b[0m\u001b[1;33m\u001b[0m\u001b[1;33m\u001b[0m\u001b[0m\n\u001b[1;32m--> 173\u001b[1;33m     Variable._execution_engine.run_backward(  # Calls into the C++ engine to run the backward pass\n\u001b[0m\u001b[0;32m    174\u001b[0m         \u001b[0mtensors\u001b[0m\u001b[1;33m,\u001b[0m \u001b[0mgrad_tensors_\u001b[0m\u001b[1;33m,\u001b[0m \u001b[0mretain_graph\u001b[0m\u001b[1;33m,\u001b[0m \u001b[0mcreate_graph\u001b[0m\u001b[1;33m,\u001b[0m \u001b[0minputs\u001b[0m\u001b[1;33m,\u001b[0m\u001b[1;33m\u001b[0m\u001b[1;33m\u001b[0m\u001b[0m\n\u001b[0;32m    175\u001b[0m         allow_unreachable=True, accumulate_grad=True)  # Calls into the C++ engine to run the backward pass\n",
      "\u001b[1;31mKeyboardInterrupt\u001b[0m: "
     ]
    }
   ],
   "source": [
    "model_ft = train_model(model, criterion, optimizer_ft, exp_lr_scheduler,\n",
    "                       num_epochs=20)"
   ]
  },
  {
   "cell_type": "markdown",
   "metadata": {},
   "source": [
    "# Test data loader"
   ]
  },
  {
   "cell_type": "code",
   "execution_count": 132,
   "metadata": {
    "execution": {
     "iopub.execute_input": "2022-04-08T16:25:02.462677Z",
     "iopub.status.busy": "2022-04-08T16:25:02.461926Z",
     "iopub.status.idle": "2022-04-08T16:25:02.471119Z",
     "shell.execute_reply": "2022-04-08T16:25:02.470301Z",
     "shell.execute_reply.started": "2022-04-08T16:25:02.462642Z"
    }
   },
   "outputs": [],
   "source": [
    "class TestDatasetCustom(Dataset):\n",
    "    \n",
    "    def __init__(self, root_dir, transform=None):\n",
    "        import glob\n",
    "        self.root = root_dir\n",
    "        files = glob.glob(root_dir+'/*.png')\n",
    "        self.files = [root_dir + '/' + str(i) + '.png' for i in range(len(files))]\n",
    "        self.transform = transform\n",
    "    \n",
    "    def file_getter(self):\n",
    "        return self.files\n",
    "        \n",
    "    def __len__(self):\n",
    "        return len(self.files)\n",
    "    \n",
    "    def __getitem__(self, index):\n",
    "        \n",
    "        if torch.is_tensor(index):\n",
    "            index = index.tolist()\n",
    "        \n",
    "        edges_mask = io.imread(self.files[index])\n",
    "        \n",
    "        # Added, since my images are in black and white (luma edges)\n",
    "        image = np.zeros((edges_mask.shape[0], edges_mask.shape[1], 3))\n",
    "        image[:,:,0] = edges_mask\n",
    "        image[:,:,1] = edges_mask\n",
    "        image[:,:,2] = edges_mask\n",
    "        image = image.astype(np.uint8)\n",
    "        \n",
    "        if self.transform is not None:\n",
    "            image = self.transform(image)\n",
    "            \n",
    "        img_name = self.files[index].split('/')[-1]\n",
    "            \n",
    "        return img_name, image"
   ]
  },
  {
   "cell_type": "code",
   "execution_count": 133,
   "metadata": {
    "execution": {
     "iopub.execute_input": "2022-04-08T16:25:02.984571Z",
     "iopub.status.busy": "2022-04-08T16:25:02.984348Z",
     "iopub.status.idle": "2022-04-08T16:25:03.010158Z",
     "shell.execute_reply": "2022-04-08T16:25:03.009385Z",
     "shell.execute_reply.started": "2022-04-08T16:25:02.984545Z"
    }
   },
   "outputs": [],
   "source": [
    "# test_dir = \"/kaggle/input/classification-of-an-out-of-distribution-dataset/test_set/test_set\"\n",
    "test_dataset = TestDatasetCustom(path_to_test_images, transform=data_transforms['train'])"
   ]
  },
  {
   "cell_type": "code",
   "execution_count": 134,
   "metadata": {
    "execution": {
     "iopub.execute_input": "2022-04-08T16:25:03.541873Z",
     "iopub.status.busy": "2022-04-08T16:25:03.541524Z",
     "iopub.status.idle": "2022-04-08T16:25:03.546317Z",
     "shell.execute_reply": "2022-04-08T16:25:03.545517Z",
     "shell.execute_reply.started": "2022-04-08T16:25:03.54184Z"
    }
   },
   "outputs": [],
   "source": [
    "test_dataloader = DataLoader(test_dataset, batch_size=1,\n",
    "                        shuffle=False, num_workers=0)"
   ]
  },
  {
   "cell_type": "markdown",
   "metadata": {},
   "source": [
    "# Saving the result"
   ]
  },
  {
   "cell_type": "code",
   "execution_count": 138,
   "metadata": {
    "execution": {
     "iopub.execute_input": "2022-04-08T16:25:04.568702Z",
     "iopub.status.busy": "2022-04-08T16:25:04.568064Z",
     "iopub.status.idle": "2022-04-08T16:28:59.766605Z",
     "shell.execute_reply": "2022-04-08T16:28:59.765834Z",
     "shell.execute_reply.started": "2022-04-08T16:25:04.568581Z"
    }
   },
   "outputs": [
    {
     "name": "stderr",
     "output_type": "stream",
     "text": [
      "0it [00:00, ?it/s]\n"
     ]
    }
   ],
   "source": [
    "total = 0\n",
    "empty_dictionary = {'id': np.zeros((len(test_dataloader))), 'label': np.zeros((len(test_dataloader)))}\n",
    "predicted_df = pd.DataFrame(data=empty_dictionary)\n",
    "predicted_df['id'] = predicted_df['id'].apply(str)\n",
    "predicted_df['label'] = predicted_df['label'].astype(int)\n",
    "# since we're not training, we don't need to calculate the gradients for our outputs\n",
    "with torch.no_grad():\n",
    "    for index, values in enumerate(tqdm(test_dataloader)):\n",
    "        # calculate outputs by running images through the network\n",
    "        image = values\n",
    "        image_name = image[0]\n",
    "        image_file = image[1]\n",
    "        image_file = image_file.cpu().float()\n",
    "        model_ft = model_ft.cpu()\n",
    "        output = model_ft(image_file)\n",
    "        \n",
    "        _, predicted = torch.max(output.data, 1)\n",
    "        \n",
    "        if index==1 or index==10 or index==20:\n",
    "            out = torchvision.utils.make_grid(image_file)\n",
    "            imshow(out)\n",
    "            print(output)\n",
    "        \n",
    "        predicted_df.at[index,'id'] = image_name[0]\n",
    "        predicted_df.at[index,'label'] = str(predicted.numpy()[0])\n",
    "        "
   ]
  },
  {
   "cell_type": "code",
   "execution_count": null,
   "metadata": {
    "execution": {
     "iopub.execute_input": "2022-04-08T16:30:09.823225Z",
     "iopub.status.busy": "2022-04-08T16:30:09.822905Z",
     "iopub.status.idle": "2022-04-08T16:30:09.838393Z",
     "shell.execute_reply": "2022-04-08T16:30:09.837715Z",
     "shell.execute_reply.started": "2022-04-08T16:30:09.823193Z"
    }
   },
   "outputs": [],
   "source": [
    "predicted_df.to_csv('rjching_15-04-2022_7.csv', index = False)"
   ]
  },
  {
   "cell_type": "code",
   "execution_count": null,
   "metadata": {},
   "outputs": [],
   "source": []
  }
 ],
 "metadata": {
  "kernelspec": {
   "display_name": "Python 3 (ipykernel)",
   "language": "python",
   "name": "python3"
  },
  "language_info": {
   "codemirror_mode": {
    "name": "ipython",
    "version": 3
   },
   "file_extension": ".py",
   "mimetype": "text/x-python",
   "name": "python",
   "nbconvert_exporter": "python",
   "pygments_lexer": "ipython3",
   "version": "3.9.7"
  }
 },
 "nbformat": 4,
 "nbformat_minor": 4
}
